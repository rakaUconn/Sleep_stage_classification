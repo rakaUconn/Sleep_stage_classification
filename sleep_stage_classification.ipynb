{
 "cells": [
  {
   "cell_type": "code",
   "execution_count": null,
   "metadata": {},
   "outputs": [],
   "source": []
  },
  {
   "cell_type": "markdown",
   "metadata": {},
   "source": [
    "# Sleep stage classification on Sleep-edf data set\n",
    "\n",
    "In this project, we will use deep neural network on raw EEG data for sleep stage classification.\n",
    "\n",
    "This work is based on the MNE-Python and the mne-torch repository, as well as\n",
    "\n",
    "Chambon, S., Galtier, M. N., Arnal, P. J., Wainrib, G., & Gramfort, A. (2018). A deep learning architecture for temporal sleep stage classification using multivariate and multimodal time series. IEEE Transactions on Neural Systems and Rehabilitation Engineering, 26(4), 758-769.\n",
    "\n",
    "# Sleep staging\n",
    "\n",
    "The method of determining a person's sleep stage by studying their EEG and other physiological signs is known as sleep staging. Sleep recordings are generally separated into 30-second windows, with each window assigned to one of five groups (\"stages\"): <br>\n",
    "1) W: wakefulness\n",
    "2) N1: light sleep\n",
    "3) N2: deeper sleep\n",
    "4) N3: deep sleep\n",
    "5) R: rapid eye movement\n",
    "<br>\n",
    "\n",
    "Sleep staging often relies on collecting changes in the EEG's spectral features as well as transitory events (such as sleep spindles, k-complexes, slow waves, and so on) that occur throughout various sleep phases.\n",
    "\n",
    "We'll train a Deep neural network to conduct sleep staging on unseen raw EEG in this work. The Sleep Physionet dataset will be used, which comprises 153 nightly sleep recordings from 78 people. These recordings were carefully staged by sleep specialists, giving us the categorization objectives we needed to train and assess our ConvNet on"
   ]
  },
  {
   "cell_type": "markdown",
   "metadata": {},
   "source": [
    "Identify whether a CUDA-enabled GPU is available"
   ]
  },
  {
   "cell_type": "code",
   "execution_count": 1,
   "metadata": {},
   "outputs": [
    {
     "name": "stdout",
     "output_type": "stream",
     "text": [
      "CUDA-enabled GPU found. Training should be faster.\n"
     ]
    }
   ],
   "source": [
    "\n",
    "import torch\n",
    "\n",
    "if torch.cuda.is_available():\n",
    "    print('CUDA-enabled GPU found. Training should be faster.')\n",
    "else:\n",
    "    print('No GPU found. Training will be carried out on CPU, which might be '\n",
    "          'slower.\\n\\nIf running on Google Colab, you can request a GPU runtime by'\n",
    "          ' clicking\\n`Runtime/Change runtime type` in the top bar menu, then '\n",
    "          'selecting \\'GPU\\'\\nunder \\'Hardware accelerator\\'.')\n",
    "    "
   ]
  },
  {
   "cell_type": "markdown",
   "metadata": {},
   "source": [
    "# Install required packages if not installed\n",
    "!pip install mne <br>\n",
    "!pip install torch <br>\n",
    "!pip install matplotlib <br>\n",
    "!pip install scikit-learn <br>\n",
    "!pip install pandas <br>"
   ]
  },
  {
   "cell_type": "code",
   "execution_count": null,
   "metadata": {},
   "outputs": [],
   "source": []
  }
 ],
 "metadata": {
  "interpreter": {
   "hash": "b3ba2566441a7c06988d0923437866b63cedc61552a5af99d1f4fb67d367b25f"
  },
  "kernelspec": {
   "display_name": "Python 3.8.8 ('base')",
   "language": "python",
   "name": "python3"
  },
  "language_info": {
   "name": "python",
   "version": "3.8.8"
  },
  "orig_nbformat": 4
 },
 "nbformat": 4,
 "nbformat_minor": 2
}
